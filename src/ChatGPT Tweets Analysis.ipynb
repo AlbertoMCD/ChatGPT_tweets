{
 "cells": [
  {
   "attachments": {},
   "cell_type": "markdown",
   "metadata": {},
   "source": [
    "<p align=\"center\">\n",
    "  <img width=\"550\" height=\"281\" src=\"http://encuentratubeca.mx/wp-content/uploads/2019/04/logoudgvectores_1_origsdaasss.png\">\n",
    "</p>\n",
    "\n",
    "# <center>Proyecto Final</center>             \n",
    "------\n",
    "## Maestría en Ciencias de Datos\n",
    "#### Alberto Martinez\n",
    "#### Mauricio Tenorio\n",
    "\n",
    "#### Marzo  2023"
   ]
  },
  {
   "cell_type": "code",
   "execution_count": 11,
   "metadata": {},
   "outputs": [],
   "source": [
    "# Importamos librerias necesarias para el analisis de los datos\n",
    "import numpy as np\n",
    "import pandas as pd\n",
    "import matplotlib.pyplot as plt\n",
    "import altair as alt"
   ]
  },
  {
   "attachments": {},
   "cell_type": "markdown",
   "metadata": {},
   "source": [
    "#### Informacion del Dataset\n",
    "Dataset utilizando \n",
    "\n",
    "Variables:"
   ]
  },
  {
   "cell_type": "code",
   "execution_count": 12,
   "metadata": {},
   "outputs": [],
   "source": [
    "#Descargamos dataset directamente desde el url\n",
    "path = \"https://raw.githubusercontent.com/AlbertoMCD/ChatGPT_tweets/main/data/GPT.csv\"\n",
    "df = pd.read_csv(path)"
   ]
  },
  {
   "cell_type": "code",
   "execution_count": 13,
   "metadata": {},
   "outputs": [
    {
     "data": {
      "text/html": [
       "<div>\n",
       "<style scoped>\n",
       "    .dataframe tbody tr th:only-of-type {\n",
       "        vertical-align: middle;\n",
       "    }\n",
       "\n",
       "    .dataframe tbody tr th {\n",
       "        vertical-align: top;\n",
       "    }\n",
       "\n",
       "    .dataframe thead th {\n",
       "        text-align: right;\n",
       "    }\n",
       "</style>\n",
       "<table border=\"1\" class=\"dataframe\">\n",
       "  <thead>\n",
       "    <tr style=\"text-align: right;\">\n",
       "      <th></th>\n",
       "      <th>text</th>\n",
       "      <th>favorited</th>\n",
       "      <th>favoriteCount</th>\n",
       "      <th>replyToSN</th>\n",
       "      <th>created</th>\n",
       "      <th>truncated</th>\n",
       "      <th>replyToSID</th>\n",
       "      <th>id</th>\n",
       "      <th>replyToUID</th>\n",
       "      <th>statusSource</th>\n",
       "      <th>screenName</th>\n",
       "      <th>retweetCount</th>\n",
       "      <th>isRetweet</th>\n",
       "      <th>retweeted</th>\n",
       "      <th>longitude</th>\n",
       "      <th>latitude</th>\n",
       "    </tr>\n",
       "  </thead>\n",
       "  <tbody>\n",
       "    <tr>\n",
       "      <th>0</th>\n",
       "      <td>RT @gdb: ChatGPT as a tool for Congress: https...</td>\n",
       "      <td>False</td>\n",
       "      <td>0</td>\n",
       "      <td>NaN</td>\n",
       "      <td>4/27/2023 17:35:29</td>\n",
       "      <td>False</td>\n",
       "      <td>NaN</td>\n",
       "      <td>1651641228520194048</td>\n",
       "      <td>NaN</td>\n",
       "      <td>&lt;a href=\"http://twitter.com/download/iphone\" r...</td>\n",
       "      <td>nos_ult</td>\n",
       "      <td>58</td>\n",
       "      <td>True</td>\n",
       "      <td>False</td>\n",
       "      <td>NaN</td>\n",
       "      <td>NaN</td>\n",
       "    </tr>\n",
       "    <tr>\n",
       "      <th>1</th>\n",
       "      <td>RT @gdb: ChatGPT as a tool for Congress: https...</td>\n",
       "      <td>False</td>\n",
       "      <td>0</td>\n",
       "      <td>NaN</td>\n",
       "      <td>4/27/2023 17:35:28</td>\n",
       "      <td>False</td>\n",
       "      <td>NaN</td>\n",
       "      <td>1651641223428317185</td>\n",
       "      <td>NaN</td>\n",
       "      <td>&lt;a href=\"http://twitter.com/download/android\" ...</td>\n",
       "      <td>verobouvier</td>\n",
       "      <td>58</td>\n",
       "      <td>True</td>\n",
       "      <td>False</td>\n",
       "      <td>NaN</td>\n",
       "      <td>NaN</td>\n",
       "    </tr>\n",
       "    <tr>\n",
       "      <th>2</th>\n",
       "      <td>RT @moemicky18: So chatgpt failed an accountin...</td>\n",
       "      <td>False</td>\n",
       "      <td>0</td>\n",
       "      <td>NaN</td>\n",
       "      <td>4/27/2023 17:35:27</td>\n",
       "      <td>False</td>\n",
       "      <td>NaN</td>\n",
       "      <td>1651641221893308416</td>\n",
       "      <td>NaN</td>\n",
       "      <td>&lt;a href=\"http://twitter.com/download/iphone\" r...</td>\n",
       "      <td>uzayrmug</td>\n",
       "      <td>2</td>\n",
       "      <td>True</td>\n",
       "      <td>False</td>\n",
       "      <td>NaN</td>\n",
       "      <td>NaN</td>\n",
       "    </tr>\n",
       "    <tr>\n",
       "      <th>3</th>\n",
       "      <td>RT @JeanPROFITbiz: Les gens gagnent des millie...</td>\n",
       "      <td>False</td>\n",
       "      <td>0</td>\n",
       "      <td>NaN</td>\n",
       "      <td>4/27/2023 17:35:27</td>\n",
       "      <td>False</td>\n",
       "      <td>NaN</td>\n",
       "      <td>1651641218059608094</td>\n",
       "      <td>NaN</td>\n",
       "      <td>&lt;a href=\"http://twitter.com/download/iphone\" r...</td>\n",
       "      <td>SachaMery</td>\n",
       "      <td>359</td>\n",
       "      <td>True</td>\n",
       "      <td>False</td>\n",
       "      <td>NaN</td>\n",
       "      <td>NaN</td>\n",
       "    </tr>\n",
       "    <tr>\n",
       "      <th>4</th>\n",
       "      <td>does chatgpt mean I, as a wet lab biologist wh...</td>\n",
       "      <td>False</td>\n",
       "      <td>0</td>\n",
       "      <td>NaN</td>\n",
       "      <td>4/27/2023 17:35:26</td>\n",
       "      <td>True</td>\n",
       "      <td>NaN</td>\n",
       "      <td>1651641214557364234</td>\n",
       "      <td>NaN</td>\n",
       "      <td>&lt;a href=\"http://twitter.com/download/android\" ...</td>\n",
       "      <td>ruth_hook_</td>\n",
       "      <td>0</td>\n",
       "      <td>False</td>\n",
       "      <td>False</td>\n",
       "      <td>NaN</td>\n",
       "      <td>NaN</td>\n",
       "    </tr>\n",
       "  </tbody>\n",
       "</table>\n",
       "</div>"
      ],
      "text/plain": [
       "                                                text  favorited   \n",
       "0  RT @gdb: ChatGPT as a tool for Congress: https...      False  \\\n",
       "1  RT @gdb: ChatGPT as a tool for Congress: https...      False   \n",
       "2  RT @moemicky18: So chatgpt failed an accountin...      False   \n",
       "3  RT @JeanPROFITbiz: Les gens gagnent des millie...      False   \n",
       "4  does chatgpt mean I, as a wet lab biologist wh...      False   \n",
       "\n",
       "   favoriteCount replyToSN             created  truncated  replyToSID   \n",
       "0              0       NaN  4/27/2023 17:35:29      False         NaN  \\\n",
       "1              0       NaN  4/27/2023 17:35:28      False         NaN   \n",
       "2              0       NaN  4/27/2023 17:35:27      False         NaN   \n",
       "3              0       NaN  4/27/2023 17:35:27      False         NaN   \n",
       "4              0       NaN  4/27/2023 17:35:26       True         NaN   \n",
       "\n",
       "                    id  replyToUID   \n",
       "0  1651641228520194048         NaN  \\\n",
       "1  1651641223428317185         NaN   \n",
       "2  1651641221893308416         NaN   \n",
       "3  1651641218059608094         NaN   \n",
       "4  1651641214557364234         NaN   \n",
       "\n",
       "                                        statusSource   screenName   \n",
       "0  <a href=\"http://twitter.com/download/iphone\" r...      nos_ult  \\\n",
       "1  <a href=\"http://twitter.com/download/android\" ...  verobouvier   \n",
       "2  <a href=\"http://twitter.com/download/iphone\" r...     uzayrmug   \n",
       "3  <a href=\"http://twitter.com/download/iphone\" r...    SachaMery   \n",
       "4  <a href=\"http://twitter.com/download/android\" ...   ruth_hook_   \n",
       "\n",
       "   retweetCount  isRetweet  retweeted  longitude  latitude  \n",
       "0            58       True      False        NaN       NaN  \n",
       "1            58       True      False        NaN       NaN  \n",
       "2             2       True      False        NaN       NaN  \n",
       "3           359       True      False        NaN       NaN  \n",
       "4             0      False      False        NaN       NaN  "
      ]
     },
     "execution_count": 13,
     "metadata": {},
     "output_type": "execute_result"
    }
   ],
   "source": [
    "df.head()"
   ]
  },
  {
   "cell_type": "code",
   "execution_count": 14,
   "metadata": {},
   "outputs": [
    {
     "data": {
      "text/plain": [
       "(3000, 16)"
      ]
     },
     "execution_count": 14,
     "metadata": {},
     "output_type": "execute_result"
    }
   ],
   "source": [
    "df.shape"
   ]
  },
  {
   "cell_type": "code",
   "execution_count": 22,
   "metadata": {},
   "outputs": [
    {
     "name": "stdout",
     "output_type": "stream",
     "text": [
      "<class 'pandas.core.frame.DataFrame'>\n",
      "RangeIndex: 3000 entries, 0 to 2999\n",
      "Data columns (total 16 columns):\n",
      " #   Column         Non-Null Count  Dtype  \n",
      "---  ------         --------------  -----  \n",
      " 0   text           3000 non-null   object \n",
      " 1   favorited      3000 non-null   bool   \n",
      " 2   favoriteCount  3000 non-null   int64  \n",
      " 3   replyToSN      371 non-null    object \n",
      " 4   created        3000 non-null   object \n",
      " 5   truncated      3000 non-null   bool   \n",
      " 6   replyToSID     360 non-null    float64\n",
      " 7   id             3000 non-null   int64  \n",
      " 8   replyToUID     371 non-null    float64\n",
      " 9   statusSource   3000 non-null   object \n",
      " 10  screenName     3000 non-null   object \n",
      " 11  retweetCount   3000 non-null   int64  \n",
      " 12  isRetweet      3000 non-null   bool   \n",
      " 13  retweeted      3000 non-null   bool   \n",
      " 14  longitude      2 non-null      float64\n",
      " 15  latitude       2 non-null      float64\n",
      "dtypes: bool(4), float64(4), int64(3), object(5)\n",
      "memory usage: 293.1+ KB\n"
     ]
    }
   ],
   "source": [
    "df.info()"
   ]
  },
  {
   "attachments": {},
   "cell_type": "markdown",
   "metadata": {},
   "source": [
    "### Data Cleaning"
   ]
  },
  {
   "cell_type": "code",
   "execution_count": 15,
   "metadata": {},
   "outputs": [
    {
     "data": {
      "text/plain": [
       "text                0\n",
       "favorited           0\n",
       "favoriteCount       0\n",
       "replyToSN        2629\n",
       "created             0\n",
       "truncated           0\n",
       "replyToSID       2640\n",
       "id                  0\n",
       "replyToUID       2629\n",
       "statusSource        0\n",
       "screenName          0\n",
       "retweetCount        0\n",
       "isRetweet           0\n",
       "retweeted           0\n",
       "longitude        2998\n",
       "latitude         2998\n",
       "dtype: int64"
      ]
     },
     "execution_count": 15,
     "metadata": {},
     "output_type": "execute_result"
    }
   ],
   "source": [
    "df.isnull().sum()"
   ]
  },
  {
   "cell_type": "code",
   "execution_count": 21,
   "metadata": {},
   "outputs": [
    {
     "name": "stderr",
     "output_type": "stream",
     "text": [
      "c:\\Users\\mauricit\\AppData\\Local\\Programs\\Python\\Python311\\Lib\\site-packages\\altair\\utils\\core.py:714: UserWarning: Unrecognized encoding channel 'value'\n",
      "  warnings.warn(\"Unrecognized encoding channel '{}'\".format(encoding))\n"
     ]
    },
    {
     "ename": "SchemaValidationError",
     "evalue": "Invalid specification\n\n        altair.vegalite.v4.schema.core.FacetedEncoding, validating 'additionalProperties'\n\n        Additional properties are not allowed ('value' was unexpected)\n        ",
     "output_type": "error",
     "traceback": [
      "\u001b[1;31m---------------------------------------------------------------------------\u001b[0m",
      "\u001b[1;31mSchemaValidationError\u001b[0m                     Traceback (most recent call last)",
      "File \u001b[1;32mc:\\Users\\mauricit\\AppData\\Local\\Programs\\Python\\Python311\\Lib\\site-packages\\altair\\vegalite\\v4\\api.py:2020\u001b[0m, in \u001b[0;36mChart.to_dict\u001b[1;34m(self, *args, **kwargs)\u001b[0m\n\u001b[0;32m   2018\u001b[0m     copy\u001b[39m.\u001b[39mdata \u001b[39m=\u001b[39m core\u001b[39m.\u001b[39mInlineData(values\u001b[39m=\u001b[39m[{}])\n\u001b[0;32m   2019\u001b[0m     \u001b[39mreturn\u001b[39;00m \u001b[39msuper\u001b[39m(Chart, copy)\u001b[39m.\u001b[39mto_dict(\u001b[39m*\u001b[39margs, \u001b[39m*\u001b[39m\u001b[39m*\u001b[39mkwargs)\n\u001b[1;32m-> 2020\u001b[0m \u001b[39mreturn\u001b[39;00m \u001b[39msuper\u001b[39;49m()\u001b[39m.\u001b[39;49mto_dict(\u001b[39m*\u001b[39;49margs, \u001b[39m*\u001b[39;49m\u001b[39m*\u001b[39;49mkwargs)\n",
      "File \u001b[1;32mc:\\Users\\mauricit\\AppData\\Local\\Programs\\Python\\Python311\\Lib\\site-packages\\altair\\vegalite\\v4\\api.py:393\u001b[0m, in \u001b[0;36mTopLevelMixin.to_dict\u001b[1;34m(self, *args, **kwargs)\u001b[0m\n\u001b[0;32m    391\u001b[0m \u001b[39mif\u001b[39;00m dct \u001b[39mis\u001b[39;00m \u001b[39mNone\u001b[39;00m:\n\u001b[0;32m    392\u001b[0m     kwargs[\u001b[39m\"\u001b[39m\u001b[39mvalidate\u001b[39m\u001b[39m\"\u001b[39m] \u001b[39m=\u001b[39m \u001b[39m\"\u001b[39m\u001b[39mdeep\u001b[39m\u001b[39m\"\u001b[39m\n\u001b[1;32m--> 393\u001b[0m     dct \u001b[39m=\u001b[39m \u001b[39msuper\u001b[39;49m(TopLevelMixin, copy)\u001b[39m.\u001b[39;49mto_dict(\u001b[39m*\u001b[39;49margs, \u001b[39m*\u001b[39;49m\u001b[39m*\u001b[39;49mkwargs)\n\u001b[0;32m    395\u001b[0m \u001b[39m# TODO: following entries are added after validation. Should they be validated?\u001b[39;00m\n\u001b[0;32m    396\u001b[0m \u001b[39mif\u001b[39;00m is_top_level:\n\u001b[0;32m    397\u001b[0m     \u001b[39m# since this is top-level we add $schema if it's missing\u001b[39;00m\n",
      "File \u001b[1;32mc:\\Users\\mauricit\\AppData\\Local\\Programs\\Python\\Python311\\Lib\\site-packages\\altair\\utils\\schemapi.py:346\u001b[0m, in \u001b[0;36mSchemaBase.to_dict\u001b[1;34m(self, validate, ignore, context)\u001b[0m\n\u001b[0;32m    344\u001b[0m     result \u001b[39m=\u001b[39m _todict(\u001b[39mself\u001b[39m\u001b[39m.\u001b[39m_args[\u001b[39m0\u001b[39m], validate\u001b[39m=\u001b[39msub_validate, context\u001b[39m=\u001b[39mcontext)\n\u001b[0;32m    345\u001b[0m \u001b[39melif\u001b[39;00m \u001b[39mnot\u001b[39;00m \u001b[39mself\u001b[39m\u001b[39m.\u001b[39m_args:\n\u001b[1;32m--> 346\u001b[0m     result \u001b[39m=\u001b[39m _todict(\n\u001b[0;32m    347\u001b[0m         {k: v \u001b[39mfor\u001b[39;49;00m k, v \u001b[39min\u001b[39;49;00m \u001b[39mself\u001b[39;49m\u001b[39m.\u001b[39;49m_kwds\u001b[39m.\u001b[39;49mitems() \u001b[39mif\u001b[39;49;00m k \u001b[39mnot\u001b[39;49;00m \u001b[39min\u001b[39;49;00m ignore},\n\u001b[0;32m    348\u001b[0m         validate\u001b[39m=\u001b[39;49msub_validate,\n\u001b[0;32m    349\u001b[0m         context\u001b[39m=\u001b[39;49mcontext,\n\u001b[0;32m    350\u001b[0m     )\n\u001b[0;32m    351\u001b[0m \u001b[39melse\u001b[39;00m:\n\u001b[0;32m    352\u001b[0m     \u001b[39mraise\u001b[39;00m \u001b[39mValueError\u001b[39;00m(\n\u001b[0;32m    353\u001b[0m         \u001b[39m\"\u001b[39m\u001b[39m{}\u001b[39;00m\u001b[39m instance has both a value and properties : \u001b[39m\u001b[39m\"\u001b[39m\n\u001b[0;32m    354\u001b[0m         \u001b[39m\"\u001b[39m\u001b[39mcannot serialize to dict\u001b[39m\u001b[39m\"\u001b[39m\u001b[39m.\u001b[39mformat(\u001b[39mself\u001b[39m\u001b[39m.\u001b[39m\u001b[39m__class__\u001b[39m)\n\u001b[0;32m    355\u001b[0m     )\n",
      "File \u001b[1;32mc:\\Users\\mauricit\\AppData\\Local\\Programs\\Python\\Python311\\Lib\\site-packages\\altair\\utils\\schemapi.py:80\u001b[0m, in \u001b[0;36m_todict\u001b[1;34m(obj, validate, context)\u001b[0m\n\u001b[0;32m     78\u001b[0m     \u001b[39mreturn\u001b[39;00m [_todict(v, validate, context) \u001b[39mfor\u001b[39;00m v \u001b[39min\u001b[39;00m obj]\n\u001b[0;32m     79\u001b[0m \u001b[39melif\u001b[39;00m \u001b[39misinstance\u001b[39m(obj, \u001b[39mdict\u001b[39m):\n\u001b[1;32m---> 80\u001b[0m     \u001b[39mreturn\u001b[39;00m {\n\u001b[0;32m     81\u001b[0m         k: _todict(v, validate, context)\n\u001b[0;32m     82\u001b[0m         \u001b[39mfor\u001b[39;49;00m k, v \u001b[39min\u001b[39;49;00m obj\u001b[39m.\u001b[39;49mitems()\n\u001b[0;32m     83\u001b[0m         \u001b[39mif\u001b[39;49;00m v \u001b[39mis\u001b[39;49;00m \u001b[39mnot\u001b[39;49;00m Undefined\n\u001b[0;32m     84\u001b[0m     }\n\u001b[0;32m     85\u001b[0m \u001b[39melif\u001b[39;00m \u001b[39mhasattr\u001b[39m(obj, \u001b[39m\"\u001b[39m\u001b[39mto_dict\u001b[39m\u001b[39m\"\u001b[39m):\n\u001b[0;32m     86\u001b[0m     \u001b[39mreturn\u001b[39;00m obj\u001b[39m.\u001b[39mto_dict()\n",
      "File \u001b[1;32mc:\\Users\\mauricit\\AppData\\Local\\Programs\\Python\\Python311\\Lib\\site-packages\\altair\\utils\\schemapi.py:81\u001b[0m, in \u001b[0;36m<dictcomp>\u001b[1;34m(.0)\u001b[0m\n\u001b[0;32m     78\u001b[0m     \u001b[39mreturn\u001b[39;00m [_todict(v, validate, context) \u001b[39mfor\u001b[39;00m v \u001b[39min\u001b[39;00m obj]\n\u001b[0;32m     79\u001b[0m \u001b[39melif\u001b[39;00m \u001b[39misinstance\u001b[39m(obj, \u001b[39mdict\u001b[39m):\n\u001b[0;32m     80\u001b[0m     \u001b[39mreturn\u001b[39;00m {\n\u001b[1;32m---> 81\u001b[0m         k: _todict(v, validate, context)\n\u001b[0;32m     82\u001b[0m         \u001b[39mfor\u001b[39;00m k, v \u001b[39min\u001b[39;00m obj\u001b[39m.\u001b[39mitems()\n\u001b[0;32m     83\u001b[0m         \u001b[39mif\u001b[39;00m v \u001b[39mis\u001b[39;00m \u001b[39mnot\u001b[39;00m Undefined\n\u001b[0;32m     84\u001b[0m     }\n\u001b[0;32m     85\u001b[0m \u001b[39melif\u001b[39;00m \u001b[39mhasattr\u001b[39m(obj, \u001b[39m\"\u001b[39m\u001b[39mto_dict\u001b[39m\u001b[39m\"\u001b[39m):\n\u001b[0;32m     86\u001b[0m     \u001b[39mreturn\u001b[39;00m obj\u001b[39m.\u001b[39mto_dict()\n",
      "File \u001b[1;32mc:\\Users\\mauricit\\AppData\\Local\\Programs\\Python\\Python311\\Lib\\site-packages\\altair\\utils\\schemapi.py:76\u001b[0m, in \u001b[0;36m_todict\u001b[1;34m(obj, validate, context)\u001b[0m\n\u001b[0;32m     74\u001b[0m \u001b[39m\u001b[39m\u001b[39m\"\"\"Convert an object to a dict representation.\"\"\"\u001b[39;00m\n\u001b[0;32m     75\u001b[0m \u001b[39mif\u001b[39;00m \u001b[39misinstance\u001b[39m(obj, SchemaBase):\n\u001b[1;32m---> 76\u001b[0m     \u001b[39mreturn\u001b[39;00m obj\u001b[39m.\u001b[39;49mto_dict(validate\u001b[39m=\u001b[39;49mvalidate, context\u001b[39m=\u001b[39;49mcontext)\n\u001b[0;32m     77\u001b[0m \u001b[39melif\u001b[39;00m \u001b[39misinstance\u001b[39m(obj, (\u001b[39mlist\u001b[39m, \u001b[39mtuple\u001b[39m, np\u001b[39m.\u001b[39mndarray)):\n\u001b[0;32m     78\u001b[0m     \u001b[39mreturn\u001b[39;00m [_todict(v, validate, context) \u001b[39mfor\u001b[39;00m v \u001b[39min\u001b[39;00m obj]\n",
      "File \u001b[1;32mc:\\Users\\mauricit\\AppData\\Local\\Programs\\Python\\Python311\\Lib\\site-packages\\altair\\utils\\schemapi.py:360\u001b[0m, in \u001b[0;36mSchemaBase.to_dict\u001b[1;34m(self, validate, ignore, context)\u001b[0m\n\u001b[0;32m    358\u001b[0m         \u001b[39mself\u001b[39m\u001b[39m.\u001b[39mvalidate(result)\n\u001b[0;32m    359\u001b[0m     \u001b[39mexcept\u001b[39;00m jsonschema\u001b[39m.\u001b[39mValidationError \u001b[39mas\u001b[39;00m err:\n\u001b[1;32m--> 360\u001b[0m         \u001b[39mraise\u001b[39;00m SchemaValidationError(\u001b[39mself\u001b[39m, err)\n\u001b[0;32m    361\u001b[0m \u001b[39mreturn\u001b[39;00m result\n",
      "\u001b[1;31mSchemaValidationError\u001b[0m: Invalid specification\n\n        altair.vegalite.v4.schema.core.FacetedEncoding, validating 'additionalProperties'\n\n        Additional properties are not allowed ('value' was unexpected)\n        "
     ]
    },
    {
     "data": {
      "text/plain": [
       "alt.Chart(...)"
      ]
     },
     "execution_count": 21,
     "metadata": {},
     "output_type": "execute_result"
    }
   ],
   "source": [
    "alt.Chart(df).mark_arc().encode(\n",
    "    theta = \"favorited\",\n",
    "    value = \"favorited:N\"\n",
    ")"
   ]
  },
  {
   "cell_type": "code",
   "execution_count": null,
   "metadata": {},
   "outputs": [],
   "source": []
  }
 ],
 "metadata": {
  "interpreter": {
   "hash": "baa29903474df6eadbc839378caa965a459920435edc3e85d3d9c0846ea81edc"
  },
  "kernelspec": {
   "display_name": "Python 3.8.8 64-bit ('base': conda)",
   "name": "python3"
  },
  "language_info": {
   "codemirror_mode": {
    "name": "ipython",
    "version": 3
   },
   "file_extension": ".py",
   "mimetype": "text/x-python",
   "name": "python",
   "nbconvert_exporter": "python",
   "pygments_lexer": "ipython3",
   "version": "3.11.3"
  },
  "orig_nbformat": 4
 },
 "nbformat": 4,
 "nbformat_minor": 2
}
