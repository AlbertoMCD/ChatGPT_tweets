{
 "cells": [
  {
   "attachments": {},
   "cell_type": "markdown",
   "metadata": {},
   "source": [
    "<p align=\"center\">\n",
    "  <img width=\"550\" height=\"281\" src=\"http://encuentratubeca.mx/wp-content/uploads/2019/04/logoudgvectores_1_origsdaasss.png\">\n",
    "</p>\n",
    "\n",
    "# <center>Proyecto Final</center>             \n",
    "------\n",
    "## Maestría en Ciencias de Datos\n",
    "#### Alberto Martinez\n",
    "#### Mauricio Tenorio\n",
    "\n",
    "#### Marzo  2023"
   ]
  },
  {
   "cell_type": "code",
   "execution_count": 2,
   "metadata": {},
   "outputs": [],
   "source": [
    "# Importamos librerias necesarias para el analisis de los datos\n",
    "import numpy as np\n",
    "import pandas as pd\n",
    "import matplotlib.pyplot as plt\n",
    "from scipy import stats\n",
    "import altair as alt"
   ]
  },
  {
   "attachments": {},
   "cell_type": "markdown",
   "metadata": {},
   "source": [
    "#### Informacion del Dataset\n",
    "Dataset utilizando \n",
    "\n",
    "Variables:"
   ]
  },
  {
   "cell_type": "code",
   "execution_count": 3,
   "metadata": {},
   "outputs": [],
   "source": [
    "#Descargamos dataset directamente desde el url\n",
    "path = \"https://raw.githubusercontent.com/AlbertoMCD/ChatGPT_tweets/main/data/GPT.csv\"\n",
    "df = pd.read_csv(path)"
   ]
  },
  {
   "cell_type": "code",
   "execution_count": 4,
   "metadata": {},
   "outputs": [
    {
     "data": {
      "text/html": [
       "<div>\n",
       "<style scoped>\n",
       "    .dataframe tbody tr th:only-of-type {\n",
       "        vertical-align: middle;\n",
       "    }\n",
       "\n",
       "    .dataframe tbody tr th {\n",
       "        vertical-align: top;\n",
       "    }\n",
       "\n",
       "    .dataframe thead th {\n",
       "        text-align: right;\n",
       "    }\n",
       "</style>\n",
       "<table border=\"1\" class=\"dataframe\">\n",
       "  <thead>\n",
       "    <tr style=\"text-align: right;\">\n",
       "      <th></th>\n",
       "      <th>text</th>\n",
       "      <th>favorited</th>\n",
       "      <th>favoriteCount</th>\n",
       "      <th>replyToSN</th>\n",
       "      <th>created</th>\n",
       "      <th>truncated</th>\n",
       "      <th>replyToSID</th>\n",
       "      <th>id</th>\n",
       "      <th>replyToUID</th>\n",
       "      <th>statusSource</th>\n",
       "      <th>screenName</th>\n",
       "      <th>retweetCount</th>\n",
       "      <th>isRetweet</th>\n",
       "      <th>retweeted</th>\n",
       "      <th>longitude</th>\n",
       "      <th>latitude</th>\n",
       "    </tr>\n",
       "  </thead>\n",
       "  <tbody>\n",
       "    <tr>\n",
       "      <th>0</th>\n",
       "      <td>RT @gdb: ChatGPT as a tool for Congress: https...</td>\n",
       "      <td>False</td>\n",
       "      <td>0</td>\n",
       "      <td>NaN</td>\n",
       "      <td>4/27/2023 17:35:29</td>\n",
       "      <td>False</td>\n",
       "      <td>NaN</td>\n",
       "      <td>1651641228520194048</td>\n",
       "      <td>NaN</td>\n",
       "      <td>&lt;a href=\"http://twitter.com/download/iphone\" r...</td>\n",
       "      <td>nos_ult</td>\n",
       "      <td>58</td>\n",
       "      <td>True</td>\n",
       "      <td>False</td>\n",
       "      <td>NaN</td>\n",
       "      <td>NaN</td>\n",
       "    </tr>\n",
       "    <tr>\n",
       "      <th>1</th>\n",
       "      <td>RT @gdb: ChatGPT as a tool for Congress: https...</td>\n",
       "      <td>False</td>\n",
       "      <td>0</td>\n",
       "      <td>NaN</td>\n",
       "      <td>4/27/2023 17:35:28</td>\n",
       "      <td>False</td>\n",
       "      <td>NaN</td>\n",
       "      <td>1651641223428317185</td>\n",
       "      <td>NaN</td>\n",
       "      <td>&lt;a href=\"http://twitter.com/download/android\" ...</td>\n",
       "      <td>verobouvier</td>\n",
       "      <td>58</td>\n",
       "      <td>True</td>\n",
       "      <td>False</td>\n",
       "      <td>NaN</td>\n",
       "      <td>NaN</td>\n",
       "    </tr>\n",
       "    <tr>\n",
       "      <th>2</th>\n",
       "      <td>RT @moemicky18: So chatgpt failed an accountin...</td>\n",
       "      <td>False</td>\n",
       "      <td>0</td>\n",
       "      <td>NaN</td>\n",
       "      <td>4/27/2023 17:35:27</td>\n",
       "      <td>False</td>\n",
       "      <td>NaN</td>\n",
       "      <td>1651641221893308416</td>\n",
       "      <td>NaN</td>\n",
       "      <td>&lt;a href=\"http://twitter.com/download/iphone\" r...</td>\n",
       "      <td>uzayrmug</td>\n",
       "      <td>2</td>\n",
       "      <td>True</td>\n",
       "      <td>False</td>\n",
       "      <td>NaN</td>\n",
       "      <td>NaN</td>\n",
       "    </tr>\n",
       "    <tr>\n",
       "      <th>3</th>\n",
       "      <td>RT @JeanPROFITbiz: Les gens gagnent des millie...</td>\n",
       "      <td>False</td>\n",
       "      <td>0</td>\n",
       "      <td>NaN</td>\n",
       "      <td>4/27/2023 17:35:27</td>\n",
       "      <td>False</td>\n",
       "      <td>NaN</td>\n",
       "      <td>1651641218059608094</td>\n",
       "      <td>NaN</td>\n",
       "      <td>&lt;a href=\"http://twitter.com/download/iphone\" r...</td>\n",
       "      <td>SachaMery</td>\n",
       "      <td>359</td>\n",
       "      <td>True</td>\n",
       "      <td>False</td>\n",
       "      <td>NaN</td>\n",
       "      <td>NaN</td>\n",
       "    </tr>\n",
       "    <tr>\n",
       "      <th>4</th>\n",
       "      <td>does chatgpt mean I, as a wet lab biologist wh...</td>\n",
       "      <td>False</td>\n",
       "      <td>0</td>\n",
       "      <td>NaN</td>\n",
       "      <td>4/27/2023 17:35:26</td>\n",
       "      <td>True</td>\n",
       "      <td>NaN</td>\n",
       "      <td>1651641214557364234</td>\n",
       "      <td>NaN</td>\n",
       "      <td>&lt;a href=\"http://twitter.com/download/android\" ...</td>\n",
       "      <td>ruth_hook_</td>\n",
       "      <td>0</td>\n",
       "      <td>False</td>\n",
       "      <td>False</td>\n",
       "      <td>NaN</td>\n",
       "      <td>NaN</td>\n",
       "    </tr>\n",
       "  </tbody>\n",
       "</table>\n",
       "</div>"
      ],
      "text/plain": [
       "                                                text  favorited  \\\n",
       "0  RT @gdb: ChatGPT as a tool for Congress: https...      False   \n",
       "1  RT @gdb: ChatGPT as a tool for Congress: https...      False   \n",
       "2  RT @moemicky18: So chatgpt failed an accountin...      False   \n",
       "3  RT @JeanPROFITbiz: Les gens gagnent des millie...      False   \n",
       "4  does chatgpt mean I, as a wet lab biologist wh...      False   \n",
       "\n",
       "   favoriteCount replyToSN             created  truncated  replyToSID  \\\n",
       "0              0       NaN  4/27/2023 17:35:29      False         NaN   \n",
       "1              0       NaN  4/27/2023 17:35:28      False         NaN   \n",
       "2              0       NaN  4/27/2023 17:35:27      False         NaN   \n",
       "3              0       NaN  4/27/2023 17:35:27      False         NaN   \n",
       "4              0       NaN  4/27/2023 17:35:26       True         NaN   \n",
       "\n",
       "                    id  replyToUID  \\\n",
       "0  1651641228520194048         NaN   \n",
       "1  1651641223428317185         NaN   \n",
       "2  1651641221893308416         NaN   \n",
       "3  1651641218059608094         NaN   \n",
       "4  1651641214557364234         NaN   \n",
       "\n",
       "                                        statusSource   screenName  \\\n",
       "0  <a href=\"http://twitter.com/download/iphone\" r...      nos_ult   \n",
       "1  <a href=\"http://twitter.com/download/android\" ...  verobouvier   \n",
       "2  <a href=\"http://twitter.com/download/iphone\" r...     uzayrmug   \n",
       "3  <a href=\"http://twitter.com/download/iphone\" r...    SachaMery   \n",
       "4  <a href=\"http://twitter.com/download/android\" ...   ruth_hook_   \n",
       "\n",
       "   retweetCount  isRetweet  retweeted  longitude  latitude  \n",
       "0            58       True      False        NaN       NaN  \n",
       "1            58       True      False        NaN       NaN  \n",
       "2             2       True      False        NaN       NaN  \n",
       "3           359       True      False        NaN       NaN  \n",
       "4             0      False      False        NaN       NaN  "
      ]
     },
     "execution_count": 4,
     "metadata": {},
     "output_type": "execute_result"
    }
   ],
   "source": [
    "df.head()"
   ]
  },
  {
   "cell_type": "code",
   "execution_count": 5,
   "metadata": {},
   "outputs": [
    {
     "data": {
      "text/plain": [
       "(3000, 16)"
      ]
     },
     "execution_count": 5,
     "metadata": {},
     "output_type": "execute_result"
    }
   ],
   "source": [
    "df.shape"
   ]
  },
  {
   "attachments": {},
   "cell_type": "markdown",
   "metadata": {},
   "source": [
    "### Data Cleaning"
   ]
  },
  {
   "cell_type": "code",
   "execution_count": 6,
   "metadata": {},
   "outputs": [
    {
     "data": {
      "text/plain": [
       "text                0\n",
       "favorited           0\n",
       "favoriteCount       0\n",
       "replyToSN        2629\n",
       "created             0\n",
       "truncated           0\n",
       "replyToSID       2640\n",
       "id                  0\n",
       "replyToUID       2629\n",
       "statusSource        0\n",
       "screenName          0\n",
       "retweetCount        0\n",
       "isRetweet           0\n",
       "retweeted           0\n",
       "longitude        2998\n",
       "latitude         2998\n",
       "dtype: int64"
      ]
     },
     "execution_count": 6,
     "metadata": {},
     "output_type": "execute_result"
    }
   ],
   "source": [
    "df.isnull().sum()"
   ]
  }
 ],
 "metadata": {
  "interpreter": {
   "hash": "baa29903474df6eadbc839378caa965a459920435edc3e85d3d9c0846ea81edc"
  },
  "kernelspec": {
   "display_name": "Python 3.8.8 64-bit ('base': conda)",
   "name": "python3"
  },
  "language_info": {
   "codemirror_mode": {
    "name": "ipython",
    "version": 3
   },
   "file_extension": ".py",
   "mimetype": "text/x-python",
   "name": "python",
   "nbconvert_exporter": "python",
   "pygments_lexer": "ipython3",
   "version": "3.10.11"
  },
  "orig_nbformat": 4
 },
 "nbformat": 4,
 "nbformat_minor": 2
}
